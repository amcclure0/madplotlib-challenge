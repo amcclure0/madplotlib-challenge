{
 "cells": [
  {
   "cell_type": "markdown",
   "metadata": {},
   "source": [
    "## Final Observations:\n",
    "1) The 4 most effective treatments yielded the greatest number of samples - while not explicitly stated this is likely due to mouse mortality during the timeframe of the study.\n",
    "2) There was only a single outlier in the tumor volume data for the top 4 most effective treatments - the lack of upper bound outliers suggests that none of the mice saw exceptionally rapid tumor growth during treatment while the lack of lower bound outliers suggests that none of the treatments yielded radically better results in one specific mouse or group of mice versus another group.\n",
    "3) There appears to be a clear correlation between mouse bodyweight and tumor volume - in general, larger mice have larger tumors and smaller mice smaller tumors. This is logical that tumor sizes would be scaled with bodyweight."
   ]
  },
  {
   "cell_type": "code",
   "execution_count": 29,
   "metadata": {},
   "outputs": [
    {
     "data": {
      "text/html": [
       "<div>\n",
       "<style scoped>\n",
       "    .dataframe tbody tr th:only-of-type {\n",
       "        vertical-align: middle;\n",
       "    }\n",
       "\n",
       "    .dataframe tbody tr th {\n",
       "        vertical-align: top;\n",
       "    }\n",
       "\n",
       "    .dataframe thead th {\n",
       "        text-align: right;\n",
       "    }\n",
       "</style>\n",
       "<table border=\"1\" class=\"dataframe\">\n",
       "  <thead>\n",
       "    <tr style=\"text-align: right;\">\n",
       "      <th></th>\n",
       "      <th>Mouse ID</th>\n",
       "      <th>Drug Regimen</th>\n",
       "      <th>Sex</th>\n",
       "      <th>Age_months</th>\n",
       "      <th>Weight (g)</th>\n",
       "      <th>Timepoint</th>\n",
       "      <th>Tumor Volume (mm3)</th>\n",
       "      <th>Metastatic Sites</th>\n",
       "    </tr>\n",
       "  </thead>\n",
       "  <tbody>\n",
       "    <tr>\n",
       "      <th>0</th>\n",
       "      <td>k403</td>\n",
       "      <td>Ramicane</td>\n",
       "      <td>Male</td>\n",
       "      <td>21</td>\n",
       "      <td>16</td>\n",
       "      <td>0</td>\n",
       "      <td>45.000000</td>\n",
       "      <td>0</td>\n",
       "    </tr>\n",
       "    <tr>\n",
       "      <th>1</th>\n",
       "      <td>k403</td>\n",
       "      <td>Ramicane</td>\n",
       "      <td>Male</td>\n",
       "      <td>21</td>\n",
       "      <td>16</td>\n",
       "      <td>5</td>\n",
       "      <td>38.825898</td>\n",
       "      <td>0</td>\n",
       "    </tr>\n",
       "    <tr>\n",
       "      <th>2</th>\n",
       "      <td>k403</td>\n",
       "      <td>Ramicane</td>\n",
       "      <td>Male</td>\n",
       "      <td>21</td>\n",
       "      <td>16</td>\n",
       "      <td>10</td>\n",
       "      <td>35.014271</td>\n",
       "      <td>1</td>\n",
       "    </tr>\n",
       "    <tr>\n",
       "      <th>3</th>\n",
       "      <td>k403</td>\n",
       "      <td>Ramicane</td>\n",
       "      <td>Male</td>\n",
       "      <td>21</td>\n",
       "      <td>16</td>\n",
       "      <td>15</td>\n",
       "      <td>34.223992</td>\n",
       "      <td>1</td>\n",
       "    </tr>\n",
       "    <tr>\n",
       "      <th>4</th>\n",
       "      <td>k403</td>\n",
       "      <td>Ramicane</td>\n",
       "      <td>Male</td>\n",
       "      <td>21</td>\n",
       "      <td>16</td>\n",
       "      <td>20</td>\n",
       "      <td>32.997729</td>\n",
       "      <td>1</td>\n",
       "    </tr>\n",
       "  </tbody>\n",
       "</table>\n",
       "</div>"
      ],
      "text/plain": [
       "  Mouse ID Drug Regimen   Sex  Age_months  Weight (g)  Timepoint  \\\n",
       "0     k403     Ramicane  Male          21          16          0   \n",
       "1     k403     Ramicane  Male          21          16          5   \n",
       "2     k403     Ramicane  Male          21          16         10   \n",
       "3     k403     Ramicane  Male          21          16         15   \n",
       "4     k403     Ramicane  Male          21          16         20   \n",
       "\n",
       "   Tumor Volume (mm3)  Metastatic Sites  \n",
       "0           45.000000                 0  \n",
       "1           38.825898                 0  \n",
       "2           35.014271                 1  \n",
       "3           34.223992                 1  \n",
       "4           32.997729                 1  "
      ]
     },
     "execution_count": 29,
     "metadata": {},
     "output_type": "execute_result"
    }
   ],
   "source": [
    "import pandas as pd\n",
    "import matplotlib.pyplot as plt\n",
    "\n",
    "mouse_data_to_load = \"data/Mouse_metadata.csv\"\n",
    "study_data_to_load = \"data/Study_results.csv\"\n",
    "\n",
    "# Read data files and store into Pandas DataFrames\n",
    "mouse_data = pd.read_csv(mouse_data_to_load)\n",
    "study_data = pd.read_csv(study_data_to_load)\n",
    "\n",
    "# Combine the data into a single dataset.  \n",
    "mouse_data_df = pd.merge(mouse_data, study_data, how=\"left\", on=[\"Mouse ID\", \"Mouse ID\"])\n",
    "\n",
    "mouse_data_df.head()"
   ]
  },
  {
   "cell_type": "code",
   "execution_count": 3,
   "metadata": {},
   "outputs": [
    {
     "name": "stdout",
     "output_type": "stream",
     "text": [
      "Mouse ID               249\n",
      "Drug Regimen            10\n",
      "Sex                      2\n",
      "Age_months              24\n",
      "Weight (g)              16\n",
      "Timepoint               10\n",
      "Tumor Volume (mm3)    1644\n",
      "Metastatic Sites         5\n",
      "dtype: int64\n"
     ]
    }
   ],
   "source": [
    "#Print number of mouse ID before cleaning\n",
    "unique_mice = mouse_data_df.nunique()\n",
    "print(unique_mice)"
   ]
  },
  {
   "cell_type": "code",
   "execution_count": 4,
   "metadata": {},
   "outputs": [
    {
     "name": "stdout",
     "output_type": "stream",
     "text": [
      "    Mouse ID Drug Regimen     Sex  Age_months  Weight (g)  Timepoint  \\\n",
      "909     g989     Propriva  Female          21          26          0   \n",
      "911     g989     Propriva  Female          21          26          5   \n",
      "913     g989     Propriva  Female          21          26         10   \n",
      "915     g989     Propriva  Female          21          26         15   \n",
      "917     g989     Propriva  Female          21          26         20   \n",
      "\n",
      "     Tumor Volume (mm3)  Metastatic Sites  \n",
      "909           45.000000                 0  \n",
      "911           47.570392                 0  \n",
      "913           49.880528                 0  \n",
      "915           53.442020                 0  \n",
      "917           54.657650                 1  \n"
     ]
    }
   ],
   "source": [
    "#Identify duplicates\n",
    "duplicates = mouse_data_df[mouse_data_df.duplicated([\"Mouse ID\",\"Timepoint\"])]\n",
    "print(duplicates)"
   ]
  },
  {
   "cell_type": "code",
   "execution_count": 5,
   "metadata": {},
   "outputs": [
    {
     "name": "stdout",
     "output_type": "stream",
     "text": [
      "Mouse ID               248\n",
      "Drug Regimen            10\n",
      "Sex                      2\n",
      "Age_months              24\n",
      "Weight (g)              16\n",
      "Timepoint               10\n",
      "Tumor Volume (mm3)    1633\n",
      "Metastatic Sites         5\n",
      "dtype: int64\n"
     ]
    }
   ],
   "source": [
    "#Drop duplicate mouse id & re-print unique number of mice\n",
    "mouse_data_df = mouse_data_df[mouse_data_df[\"Mouse ID\"] != 'g989']\n",
    "\n",
    "unique_mice_clean = mouse_data_df.nunique()\n",
    "print(unique_mice_clean)"
   ]
  },
  {
   "cell_type": "markdown",
   "metadata": {},
   "source": [
    "## Summary Statistics"
   ]
  },
  {
   "cell_type": "code",
   "execution_count": 6,
   "metadata": {},
   "outputs": [
    {
     "data": {
      "text/html": [
       "<div>\n",
       "<style scoped>\n",
       "    .dataframe tbody tr th:only-of-type {\n",
       "        vertical-align: middle;\n",
       "    }\n",
       "\n",
       "    .dataframe tbody tr th {\n",
       "        vertical-align: top;\n",
       "    }\n",
       "\n",
       "    .dataframe thead th {\n",
       "        text-align: right;\n",
       "    }\n",
       "</style>\n",
       "<table border=\"1\" class=\"dataframe\">\n",
       "  <thead>\n",
       "    <tr style=\"text-align: right;\">\n",
       "      <th></th>\n",
       "      <th>average_tumor_size</th>\n",
       "      <th>median_tumor_size</th>\n",
       "      <th>variance_tumor_size</th>\n",
       "      <th>standard_deviation_tumor_size</th>\n",
       "      <th>sem_tumor_size</th>\n",
       "      <th>total_timepoints</th>\n",
       "    </tr>\n",
       "    <tr>\n",
       "      <th>Drug Regimen</th>\n",
       "      <th></th>\n",
       "      <th></th>\n",
       "      <th></th>\n",
       "      <th></th>\n",
       "      <th></th>\n",
       "      <th></th>\n",
       "    </tr>\n",
       "  </thead>\n",
       "  <tbody>\n",
       "    <tr>\n",
       "      <th>Capomulin</th>\n",
       "      <td>40.675741</td>\n",
       "      <td>41.557809</td>\n",
       "      <td>24.947764</td>\n",
       "      <td>4.994774</td>\n",
       "      <td>0.329346</td>\n",
       "      <td>230</td>\n",
       "    </tr>\n",
       "    <tr>\n",
       "      <th>Ceftamin</th>\n",
       "      <td>52.591172</td>\n",
       "      <td>51.776157</td>\n",
       "      <td>39.290177</td>\n",
       "      <td>6.268188</td>\n",
       "      <td>0.469821</td>\n",
       "      <td>178</td>\n",
       "    </tr>\n",
       "    <tr>\n",
       "      <th>Infubinol</th>\n",
       "      <td>52.884795</td>\n",
       "      <td>51.820584</td>\n",
       "      <td>43.128684</td>\n",
       "      <td>6.567243</td>\n",
       "      <td>0.492236</td>\n",
       "      <td>178</td>\n",
       "    </tr>\n",
       "    <tr>\n",
       "      <th>Ketapril</th>\n",
       "      <td>55.235638</td>\n",
       "      <td>53.698743</td>\n",
       "      <td>68.553577</td>\n",
       "      <td>8.279709</td>\n",
       "      <td>0.603860</td>\n",
       "      <td>188</td>\n",
       "    </tr>\n",
       "    <tr>\n",
       "      <th>Naftisol</th>\n",
       "      <td>54.331565</td>\n",
       "      <td>52.509285</td>\n",
       "      <td>66.173479</td>\n",
       "      <td>8.134708</td>\n",
       "      <td>0.596466</td>\n",
       "      <td>186</td>\n",
       "    </tr>\n",
       "  </tbody>\n",
       "</table>\n",
       "</div>"
      ],
      "text/plain": [
       "              average_tumor_size  median_tumor_size  variance_tumor_size  \\\n",
       "Drug Regimen                                                               \n",
       "Capomulin              40.675741          41.557809            24.947764   \n",
       "Ceftamin               52.591172          51.776157            39.290177   \n",
       "Infubinol              52.884795          51.820584            43.128684   \n",
       "Ketapril               55.235638          53.698743            68.553577   \n",
       "Naftisol               54.331565          52.509285            66.173479   \n",
       "\n",
       "              standard_deviation_tumor_size  sem_tumor_size  total_timepoints  \n",
       "Drug Regimen                                                                   \n",
       "Capomulin                          4.994774        0.329346               230  \n",
       "Ceftamin                           6.268188        0.469821               178  \n",
       "Infubinol                          6.567243        0.492236               178  \n",
       "Ketapril                           8.279709        0.603860               188  \n",
       "Naftisol                           8.134708        0.596466               186  "
      ]
     },
     "execution_count": 6,
     "metadata": {},
     "output_type": "execute_result"
    }
   ],
   "source": [
    "# Index by Drug Regimen and then calculate summary stats\n",
    "from itertools import count\n",
    "\n",
    "\n",
    "mouse_data_summary_df = mouse_data_df.set_index(\"Drug Regimen\")\n",
    "mouse_data_summary_df = mouse_data_summary_df.groupby(\"Drug Regimen\").agg(\n",
    "    average_tumor_size=(\"Tumor Volume (mm3)\", \"mean\"),\n",
    "    median_tumor_size=(\"Tumor Volume (mm3)\", \"median\"),\n",
    "    variance_tumor_size=(\"Tumor Volume (mm3)\", \"var\"),\n",
    "    standard_deviation_tumor_size=(\"Tumor Volume (mm3)\", \"std\"),\n",
    "    sem_tumor_size=(\"Tumor Volume (mm3)\", \"sem\"),\n",
    "    total_timepoints=(\"Timepoint\",\"count\")\n",
    ")\n",
    "\n",
    "mouse_data_summary_df.head()"
   ]
  },
  {
   "cell_type": "markdown",
   "metadata": {},
   "source": [
    "## Bar and Pie Charts"
   ]
  },
  {
   "cell_type": "code",
   "execution_count": 7,
   "metadata": {},
   "outputs": [
    {
     "data": {
      "text/plain": [
       "<AxesSubplot:title={'center':'Total Timepoints by Drug Regimen'}, xlabel='Drug Regimen', ylabel='Total Timepoints'>"
      ]
     },
     "execution_count": 7,
     "metadata": {},
     "output_type": "execute_result"
    },
    {
     "data": {
      "image/png": "[encoded data removed]",
      "text/plain": [
       "<Figure size 432x288 with 1 Axes>"
      ]
     },
     "metadata": {
      "needs_background": "light"
     },
     "output_type": "display_data"
    }
   ],
   "source": [
    "import pandas as pd\n",
    "import matplotlib.pyplot as plt\n",
    "\n",
    "#Create bar chart using DataFrame.plot() method\n",
    "mouse_data_summary_df.groupby([\"Drug Regimen\"])[\"total_timepoints\"].sum().plot.bar(title=\"Total Timepoints by Drug Regimen\", ylabel=\"Total Timepoints\")"
   ]
  },
  {
   "cell_type": "code",
   "execution_count": 8,
   "metadata": {},
   "outputs": [
    {
     "data": {
      "image/png": "[encoded data removed]",
      "text/plain": [
       "<Figure size 432x288 with 1 Axes>"
      ]
     },
     "metadata": {
      "needs_background": "light"
     },
     "output_type": "display_data"
    }
   ],
   "source": [
    "#Create bar chart using pyplot method\n",
    "x_axis = mouse_data_summary_df.index\n",
    "y_axis = mouse_data_summary_df[\"total_timepoints\"]\n",
    "\n",
    "summary_bar = plt.bar(x_axis, y_axis, width=0.5)\n",
    "plt.title(\"Total Timepoints by Drug Regimen\")\n",
    "plt.xlabel(\"Drug Regimen\")\n",
    "plt.ylabel(\"Total Timepoints\")\n",
    "plt.xticks(rotation=45, ha='right')\n",
    "plt.show()"
   ]
  },
  {
   "cell_type": "code",
   "execution_count": 9,
   "metadata": {},
   "outputs": [
    {
     "data": {
      "text/plain": [
       "<AxesSubplot:title={'center':'Distribution of Mouse Sex'}>"
      ]
     },
     "execution_count": 9,
     "metadata": {},
     "output_type": "execute_result"
    },
    {
     "data": {
      "image/png": "[encoded data removed]",
      "text/plain": [
       "<Figure size 432x288 with 1 Axes>"
      ]
     },
     "metadata": {},
     "output_type": "display_data"
    }
   ],
   "source": [
    "#Create pie chart using DataFrame.plot() method\n",
    "\n",
    "mouse_sex_summary_df = mouse_data_df.set_index(\"Sex\")\n",
    "mouse_sex_summary_df = mouse_sex_summary_df.groupby(\"Sex\").agg(\n",
    "    unique_mice=(\"Mouse ID\", pd.Series.nunique)\n",
    ")\n",
    "#Please expand visual if labels & title not displaying\n",
    "labels = mouse_sex_summary_df.index\n",
    "ylabel = (\"\")\n",
    "mouse_sex_summary_df[\"unique_mice\"].plot.pie(title=\"Distribution of Mouse Sex\", labels=labels, ylabel=ylabel, autopct=\"%.1f%%\")"
   ]
  },
  {
   "cell_type": "code",
   "execution_count": 10,
   "metadata": {},
   "outputs": [
    {
     "data": {
      "image/png": "[encoded data removed]",
      "text/plain": [
       "<Figure size 432x288 with 1 Axes>"
      ]
     },
     "metadata": {},
     "output_type": "display_data"
    }
   ],
   "source": [
    "#Create pie chart using pyplot method\n",
    "labels = mouse_sex_summary_df.index\n",
    "y_axis = mouse_sex_summary_df[\"unique_mice\"]\n",
    "\n",
    "summary_bar = plt.pie(y_axis, labels=labels, autopct='%.1f%%')\n",
    "plt.title(\"Distribution of Mouse Sex\")\n",
    "plt.show()"
   ]
  },
  {
   "cell_type": "markdown",
   "metadata": {},
   "source": [
    "## Quartiles, Outliers and Boxplots"
   ]
  },
  {
   "cell_type": "code",
   "execution_count": 27,
   "metadata": {},
   "outputs": [
    {
     "name": "stdout",
     "output_type": "stream",
     "text": [
      "Capomulin\n",
      "Empty DataFrame\n",
      "Columns: [index, Mouse ID, Drug Regimen, Sex, Age_months, Weight (g), Timepoint, Tumor Volume (mm3), Metastatic Sites, max_timepoint]\n",
      "Index: []\n",
      "Ramicane\n",
      "Empty DataFrame\n",
      "Columns: [index, Mouse ID, Drug Regimen, Sex, Age_months, Weight (g), Timepoint, Tumor Volume (mm3), Metastatic Sites, max_timepoint]\n",
      "Index: []\n",
      "Infubinol\n",
      "    index Mouse ID Drug Regimen     Sex  Age_months  Weight (g)  Timepoint  \\\n",
      "58    669     c326    Infubinol  Female          18          25          5   \n",
      "\n",
      "    Tumor Volume (mm3)  Metastatic Sites  max_timepoint  \n",
      "58           36.321346                 0              5  \n",
      "Ceftamin\n",
      "Empty DataFrame\n",
      "Columns: [index, Mouse ID, Drug Regimen, Sex, Age_months, Weight (g), Timepoint, Tumor Volume (mm3), Metastatic Sites, max_timepoint]\n",
      "Index: []\n"
     ]
    },
    {
     "data": {
      "image/png": "[encoded data removed]",
      "text/plain": [
       "<Figure size 432x288 with 1 Axes>"
      ]
     },
     "metadata": {
      "needs_background": "light"
     },
     "output_type": "display_data"
    }
   ],
   "source": [
    "import numpy as np\n",
    "from scipy import stats\n",
    "\n",
    "#Create df to show last timepoint for each mouse\n",
    "mouse_max_timepoint = mouse_data_df.groupby(\"Mouse ID\").agg(\n",
    "    max_timepoint=(\"Timepoint\", \"max\")\n",
    ")\n",
    "#Merge to cleaned df & filter to top 4 Drug Regimens\n",
    "mouse_data_merged_df = mouse_data_df.merge(mouse_max_timepoint,on=[\"Mouse ID\"])\n",
    "selected_drugs = [\"Capomulin\",\"Ramicane\",\"Infubinol\",\"Ceftamin\"]\n",
    "mouse_data_merged_df = mouse_data_merged_df[mouse_data_merged_df[\"Drug Regimen\"].isin(selected_drugs)]\n",
    "mouse_data_merged_df = mouse_data_merged_df[mouse_data_merged_df[\"Timepoint\"]==mouse_data_merged_df[\"max_timepoint\"]]\n",
    "mouse_data_merged_df = mouse_data_merged_df.reset_index()\n",
    "#Create empty list for drug regimens & tumor volumes\n",
    "drug_list = [\"Capomulin\",\"Ramicane\",\"Infubinol\",\"Ceftamin\"]\n",
    "tumor_list = []\n",
    "capomulin_tumors = []\n",
    "ramicane_tumors = []\n",
    "infubinol_tumors = []\n",
    "ceftamin_tumors = []\n",
    "counter = 0\n",
    "#Loop through df to record drug name & tumor volume\n",
    "for index, row in mouse_data_merged_df.iterrows():\n",
    "        if mouse_data_merged_df[\"Drug Regimen\"][counter]==\"Capomulin\":\n",
    "            capomulin_tumors.append(mouse_data_merged_df[\"Tumor Volume (mm3)\"][counter])\n",
    "            counter += 1\n",
    "        elif mouse_data_merged_df[\"Drug Regimen\"][counter]==\"Ramicane\":\n",
    "            ramicane_tumors.append(mouse_data_merged_df[\"Tumor Volume (mm3)\"][counter])\n",
    "            counter += 1\n",
    "        elif mouse_data_merged_df[\"Drug Regimen\"][counter]==\"Infubinol\":\n",
    "            infubinol_tumors.append(mouse_data_merged_df[\"Tumor Volume (mm3)\"][counter])\n",
    "            counter += 1\n",
    "        elif mouse_data_merged_df[\"Drug Regimen\"][counter]==\"Ceftamin\":\n",
    "            ceftamin_tumors.append(mouse_data_merged_df[\"Tumor Volume (mm3)\"][counter])\n",
    "            counter += 1\n",
    "\n",
    "#Loop through treatments & display IQR & Outliers\n",
    "tumor_data_dict = {\"Capomulin\": capomulin_tumors, \"Ramicane\": ramicane_tumors, \"Infubinol\": infubinol_tumors, \"Ceftamin\": ceftamin_tumors}\n",
    "for i in tumor_data_dict:\n",
    "    quartiles = mouse_data_merged_df[mouse_data_merged_df[\"Drug Regimen\"]==i][\"Tumor Volume (mm3)\"].quantile([.25,.5,.75])\n",
    "    lowerq = quartiles[0.25]\n",
    "    upperq = quartiles[0.75]\n",
    "    iqr = upperq-lowerq\n",
    "    lower_bound = lowerq - (1.5*iqr)\n",
    "    upper_bound = upperq + (1.5*iqr)\n",
    "    outliers = mouse_data_merged_df.loc[(mouse_data_merged_df[mouse_data_merged_df[\"Drug Regimen\"]==i][\"Tumor Volume (mm3)\"] < lower_bound) | (mouse_data_merged_df[\"Tumor Volume (mm3)\"] > upper_bound)]\n",
    "    print(i)\n",
    "    print(outliers)\n",
    "#Identified a single lower bound outlier for Infubinol - no other outliers\n",
    "\n",
    "#Generate box plot\n",
    "fig1, ax1 = plt.subplots()\n",
    "red_diamond = dict(markerfacecolor='r', marker='D')\n",
    "ax1.set_title(\"Tumor Volume by Drug Regimen\")\n",
    "ax1.set_ylabel(\"Tumor Volume (mm3)\")\n",
    "ax1.boxplot(tumor_data_dict.values(), flierprops=red_diamond)\n",
    "ax1.set_xticklabels(tumor_data_dict.keys())\n",
    "plt.show()"
   ]
  },
  {
   "cell_type": "markdown",
   "metadata": {},
   "source": [
    "## Line & Scatter Plots"
   ]
  },
  {
   "cell_type": "code",
   "execution_count": 32,
   "metadata": {},
   "outputs": [
    {
     "data": {
      "text/plain": [
       "Text(0, 0.5, 'Tumor Volume (mm3)')"
      ]
     },
     "execution_count": 32,
     "metadata": {},
     "output_type": "execute_result"
    },
    {
     "data": {
      "image/png": "[encoded data removed]",
      "text/plain": [
       "<Figure size 432x288 with 1 Axes>"
      ]
     },
     "metadata": {
      "needs_background": "light"
     },
     "output_type": "display_data"
    }
   ],
   "source": [
    "#Select a single mouse treated w/ Capomulin\n",
    "mouse_u364 = mouse_data_df[mouse_data_df[\"Mouse ID\"]==\"u364\"]\n",
    "\n",
    "x_axis = mouse_u364[\"Timepoint\"]\n",
    "y_axis = mouse_u364[\"Tumor Volume (mm3)\"]\n",
    "\n",
    "u364_summary = plt.plot(x_axis, y_axis)\n",
    "plt.title(\"Tumor Volume vs. Time - Mouse u364\")\n",
    "plt.xlabel(\"Timepoint\")\n",
    "plt.ylabel(\"Tumor Volume (mm3)\")"
   ]
  },
  {
   "cell_type": "code",
   "execution_count": 41,
   "metadata": {},
   "outputs": [
    {
     "data": {
      "text/plain": [
       "Text(0, 0.5, 'Tumor Volume (mm3)')"
      ]
     },
     "execution_count": 41,
     "metadata": {},
     "output_type": "execute_result"
    },
    {
     "data": {
      "image/png": "[encoded data removed]",
      "text/plain": [
       "<Figure size 432x288 with 1 Axes>"
      ]
     },
     "metadata": {
      "needs_background": "light"
     },
     "output_type": "display_data"
    }
   ],
   "source": [
    "from scipy.stats import linregress\n",
    "\n",
    "#Create scatter plot & plot regression model on plot\n",
    "weight_vs_volume = mouse_data_df[mouse_data_df[\"Drug Regimen\"]==\"Capomulin\"]\n",
    "\n",
    "x_values = weight_vs_volume[\"Weight (g)\"]\n",
    "y_values = weight_vs_volume[\"Tumor Volume (mm3)\"]\n",
    "(slope, intercept, rvalue, pvalue, stderr) = linregress(x_values, y_values)\n",
    "regress_values = x_values * slope + intercept\n",
    "line_eq = \"y = \" + str(round(slope,2)) + \"x + \" + str(round(intercept,2))\n",
    "\n",
    "u364_summary = plt.scatter(x_axis, y_axis)\n",
    "plt.plot(x_values,regress_values,\"r-\")\n",
    "plt.annotate(line_eq,(20,25),fontsize=15,color=\"red\")\n",
    "plt.title(\"Tumor Volume vs. Mouse Weight - Mouse u364\")\n",
    "plt.xlabel(\"Weight (g)\")\n",
    "plt.ylabel(\"Tumor Volume (mm3)\")"
   ]
  }
 ],
 "metadata": {
  "kernelspec": {
   "display_name": "Python 3.9.12 ('base')",
   "language": "python",
   "name": "python3"
  },
  "language_info": {
   "codemirror_mode": {
    "name": "ipython",
    "version": 3
   },
   "file_extension": ".py",
   "mimetype": "text/x-python",
   "name": "python",
   "nbconvert_exporter": "python",
   "pygments_lexer": "ipython3",
   "version": "3.9.12"
  },
  "orig_nbformat": 4,
  "vscode": {
   "interpreter": {
    "hash": "891b3117de498d5b619a7903a9aff417da1ef62be545923fb3e5c62a86d109c8"
   }
  }
 },
 "nbformat": 4,
 "nbformat_minor": 2
}
